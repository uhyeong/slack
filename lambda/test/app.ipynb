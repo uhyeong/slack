{
 "cells": [
  {
   "cell_type": "code",
   "execution_count": 1,
   "metadata": {},
   "outputs": [],
   "source": [
    "import sys\n",
    "from pathlib import Path\n",
    "BASE_DIR = Path('__file__').resolve().parent.parent.parent\n",
    "sys.path.append(str(BASE_DIR)+\"/layer\") # local 테스트용\n",
    "\n",
    "import warnings\n",
    "warnings.filterwarnings(action='ignore')\n",
    "\n",
    "import logging\n",
    "logger = logging.getLogger()\n",
    "logger.setLevel(logging.INFO)"
   ]
  },
  {
   "cell_type": "code",
   "execution_count": 2,
   "metadata": {},
   "outputs": [
    {
     "data": {
      "text/plain": [
       "['/Users/gyoungwon-cho/dev/github/course_aws/sns/slack/lambda/test',\n",
       " '/Users/gyoungwon-cho/.pyenv/versions/3.11.3/lib/python311.zip',\n",
       " '/Users/gyoungwon-cho/.pyenv/versions/3.11.3/lib/python3.11',\n",
       " '/Users/gyoungwon-cho/.pyenv/versions/3.11.3/lib/python3.11/lib-dynload',\n",
       " '',\n",
       " '/Users/gyoungwon-cho/.pyenv/versions/3.11.3/envs/web-venv/lib/python3.11/site-packages',\n",
       " '/Users/gyoungwon-cho/dev/github/course_aws/sns/slack/layer']"
      ]
     },
     "execution_count": 2,
     "metadata": {},
     "output_type": "execute_result"
    }
   ],
   "source": [
    "sys.path"
   ]
  },
  {
   "cell_type": "code",
   "execution_count": 3,
   "metadata": {},
   "outputs": [],
   "source": [
    "from common.sns_slack import slack_alarm\n",
    "from common.constant import SLACK_CHANNELS, SERVICE_TYPE"
   ]
  },
  {
   "cell_type": "code",
   "execution_count": 10,
   "metadata": {},
   "outputs": [],
   "source": [
    "\"DEV\" in SERVICE_TYPE.__members__\n",
    "\n",
    "service_type = \"DEV11\""
   ]
  },
  {
   "cell_type": "code",
   "execution_count": 11,
   "metadata": {},
   "outputs": [
    {
     "ename": "AssertionError",
     "evalue": "[lambda_handler] error of service_type: DEV11",
     "output_type": "error",
     "traceback": [
      "\u001b[0;31m---------------------------------------------------------------------------\u001b[0m",
      "\u001b[0;31mAssertionError\u001b[0m                            Traceback (most recent call last)",
      "Cell \u001b[0;32mIn[11], line 1\u001b[0m\n\u001b[0;32m----> 1\u001b[0m \u001b[38;5;28;01massert\u001b[39;00m service_type \u001b[38;5;129;01mand\u001b[39;00m service_type \u001b[38;5;129;01min\u001b[39;00m SERVICE_TYPE\u001b[38;5;241m.\u001b[39m__members__, \u001b[38;5;124mf\u001b[39m\u001b[38;5;124m\"\u001b[39m\u001b[38;5;124m[lambda_handler] error of service_type: \u001b[39m\u001b[38;5;132;01m{\u001b[39;00mservice_type\u001b[38;5;132;01m}\u001b[39;00m\u001b[38;5;124m\"\u001b[39m\n",
      "\u001b[0;31mAssertionError\u001b[0m: [lambda_handler] error of service_type: DEV11"
     ]
    }
   ],
   "source": [
    "assert service_type and service_type in SERVICE_TYPE.__members__, f\"[lambda_handler] error of service_type: {service_type}\""
   ]
  },
  {
   "cell_type": "code",
   "execution_count": 5,
   "metadata": {},
   "outputs": [],
   "source": [
    "sns = slack_alarm(SLACK_CHANNELS.ALARM)"
   ]
  },
  {
   "cell_type": "code",
   "execution_count": 6,
   "metadata": {},
   "outputs": [
    {
     "name": "stderr",
     "output_type": "stream",
     "text": [
      "ERROR:root:[slack_alarm][send_service_message] error of p_service_type\n"
     ]
    }
   ],
   "source": [
    "sns.send_service_message(\"test\")"
   ]
  },
  {
   "cell_type": "code",
   "execution_count": 7,
   "metadata": {},
   "outputs": [
    {
     "data": {
      "text/plain": [
       "'1733278492.235109'"
      ]
     },
     "execution_count": 7,
     "metadata": {},
     "output_type": "execute_result"
    }
   ],
   "source": [
    "sns.send_service_message(SERVICE_TYPE.DEV)"
   ]
  },
  {
   "cell_type": "code",
   "execution_count": 9,
   "metadata": {},
   "outputs": [
    {
     "data": {
      "text/plain": [
       "'tttt'"
      ]
     },
     "execution_count": 9,
     "metadata": {},
     "output_type": "execute_result"
    }
   ],
   "source": [
    "event = {\n",
    "  'aaa':'bbb'\n",
    "}\n",
    "\n",
    "event.get('aaccc', 'tttt')"
   ]
  },
  {
   "cell_type": "code",
   "execution_count": null,
   "metadata": {},
   "outputs": [],
   "source": []
  }
 ],
 "metadata": {
  "kernelspec": {
   "display_name": "web-venv",
   "language": "python",
   "name": "python3"
  },
  "language_info": {
   "codemirror_mode": {
    "name": "ipython",
    "version": 3
   },
   "file_extension": ".py",
   "mimetype": "text/x-python",
   "name": "python",
   "nbconvert_exporter": "python",
   "pygments_lexer": "ipython3",
   "version": "3.11.3"
  }
 },
 "nbformat": 4,
 "nbformat_minor": 2
}
